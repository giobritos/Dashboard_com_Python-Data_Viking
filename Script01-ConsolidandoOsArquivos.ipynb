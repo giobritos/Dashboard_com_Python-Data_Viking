{
 "cells": [
  {
   "cell_type": "code",
   "execution_count": 12,
   "metadata": {
    "collapsed": true,
    "ExecuteTime": {
     "end_time": "2023-06-21T22:13:19.431984686Z",
     "start_time": "2023-06-21T22:13:19.389121848Z"
    }
   },
   "outputs": [],
   "source": [
    "# local dos dados dos arquivos\n",
    "# /home/giovana/Documentos/Projetos/Dashboard_com_Python-Data_Viking/ajustados_2022"
   ]
  },
  {
   "cell_type": "code",
   "execution_count": 13,
   "outputs": [],
   "source": [
    "#!pip install pandas\n",
    "#!pip install numpy\n",
    "#!pip install pathlib"
   ],
   "metadata": {
    "collapsed": false,
    "ExecuteTime": {
     "end_time": "2023-06-21T22:13:20.577103992Z",
     "start_time": "2023-06-21T22:13:20.566737434Z"
    }
   }
  },
  {
   "cell_type": "code",
   "execution_count": 26,
   "outputs": [],
   "source": [
    "# importar pacotes\n",
    "import pandas as pd\n",
    "import numpy as np\n",
    "import zipfile\n",
    "import sqlite3\n",
    "\n",
    "import warnings\n",
    "warnings.filterwarnings('ignore')\n",
    "\n",
    "#acessar componentes do sistema operacional\n",
    "import os\n",
    "from pathlib import Path"
   ],
   "metadata": {
    "collapsed": false,
    "ExecuteTime": {
     "end_time": "2023-06-21T22:15:14.327830833Z",
     "start_time": "2023-06-21T22:15:14.321010936Z"
    }
   }
  },
  {
   "cell_type": "code",
   "execution_count": 16,
   "outputs": [],
   "source": [
    "def extract_zip_files(zip_file, destination_folder):\n",
    "    \"\"\"\n",
    "    Extrai arquivos de um arquivo ZIP para uma pasta de destino.\n",
    "    \"\"\"\n",
    "    with zipfile.ZipFile(zip_file, 'r') as zip_ref:\n",
    "        zip_ref.extractall(destination_folder)\n",
    "\n",
    "\n",
    "zip_file = '/home/giovana/Documentos/Projetos/Dashboard_com_Python-Data_Viking/infrações_2022.zip'\n",
    "destination_folder = '/home/giovana/Documentos/Projetos/Dashboard_com_Python-Data_Viking'\n",
    "extract_zip_files(zip_file, destination_folder)"
   ],
   "metadata": {
    "collapsed": false,
    "ExecuteTime": {
     "end_time": "2023-06-21T22:13:52.727038718Z",
     "start_time": "2023-06-21T22:13:48.488565831Z"
    }
   }
  },
  {
   "cell_type": "code",
   "execution_count": 17,
   "outputs": [
    {
     "data": {
      "text/plain": "pathlib.PosixPath"
     },
     "execution_count": 17,
     "metadata": {},
     "output_type": "execute_result"
    }
   ],
   "source": [
    "# local diretório\n",
    "Local_Diretorio = '/home/giovana/Documentos/Projetos/Dashboard_com_Python-Data_Viking/ajustados_2022'\n",
    "Diretorio_Path = Path(Local_Diretorio)\n",
    "\n",
    "type(Diretorio_Path)"
   ],
   "metadata": {
    "collapsed": false,
    "ExecuteTime": {
     "end_time": "2023-06-21T22:13:57.928252401Z",
     "start_time": "2023-06-21T22:13:57.883732576Z"
    }
   }
  },
  {
   "cell_type": "code",
   "execution_count": 18,
   "outputs": [
    {
     "name": "stdout",
     "output_type": "stream",
     "text": [
      "/home/giovana/Documentos/Projetos/Dashboard_com_Python-Data_Viking/ajustados_2022/infraçoes2022_09.csv\n",
      " /home/giovana/Documentos/Projetos/Dashboard_com_Python-Data_Viking/ajustados_2022/infraçoes2022_09.csv : 81.08 MB\n",
      "------------------------------\n",
      "/home/giovana/Documentos/Projetos/Dashboard_com_Python-Data_Viking/ajustados_2022/infraçoes2022_08.csv\n",
      " /home/giovana/Documentos/Projetos/Dashboard_com_Python-Data_Viking/ajustados_2022/infraçoes2022_08.csv : 78.61 MB\n",
      "------------------------------\n",
      "/home/giovana/Documentos/Projetos/Dashboard_com_Python-Data_Viking/ajustados_2022/infraçoes2022_12.csv\n",
      " /home/giovana/Documentos/Projetos/Dashboard_com_Python-Data_Viking/ajustados_2022/infraçoes2022_12.csv : 89.16 MB\n",
      "------------------------------\n",
      "/home/giovana/Documentos/Projetos/Dashboard_com_Python-Data_Viking/ajustados_2022/infraçoes2022_06.csv\n",
      " /home/giovana/Documentos/Projetos/Dashboard_com_Python-Data_Viking/ajustados_2022/infraçoes2022_06.csv : 80.33 MB\n",
      "------------------------------\n",
      "/home/giovana/Documentos/Projetos/Dashboard_com_Python-Data_Viking/ajustados_2022/infraçoes2022_03.csv\n",
      " /home/giovana/Documentos/Projetos/Dashboard_com_Python-Data_Viking/ajustados_2022/infraçoes2022_03.csv : 96.7 MB\n",
      "------------------------------\n",
      "/home/giovana/Documentos/Projetos/Dashboard_com_Python-Data_Viking/ajustados_2022/infraçoes2022_04.csv\n",
      " /home/giovana/Documentos/Projetos/Dashboard_com_Python-Data_Viking/ajustados_2022/infraçoes2022_04.csv : 100.81 MB\n",
      "------------------------------\n",
      "/home/giovana/Documentos/Projetos/Dashboard_com_Python-Data_Viking/ajustados_2022/infraçoes2022_05.csv\n",
      " /home/giovana/Documentos/Projetos/Dashboard_com_Python-Data_Viking/ajustados_2022/infraçoes2022_05.csv : 87.02 MB\n",
      "------------------------------\n",
      "/home/giovana/Documentos/Projetos/Dashboard_com_Python-Data_Viking/ajustados_2022/infraçoes2022_10.csv\n",
      " /home/giovana/Documentos/Projetos/Dashboard_com_Python-Data_Viking/ajustados_2022/infraçoes2022_10.csv : 87.07 MB\n",
      "------------------------------\n",
      "/home/giovana/Documentos/Projetos/Dashboard_com_Python-Data_Viking/ajustados_2022/infraçoes2022_02.csv\n",
      " /home/giovana/Documentos/Projetos/Dashboard_com_Python-Data_Viking/ajustados_2022/infraçoes2022_02.csv : 92.4 MB\n",
      "------------------------------\n",
      "/home/giovana/Documentos/Projetos/Dashboard_com_Python-Data_Viking/ajustados_2022/infraçoes2022_01.csv\n",
      " /home/giovana/Documentos/Projetos/Dashboard_com_Python-Data_Viking/ajustados_2022/infraçoes2022_01.csv : 83.06 MB\n",
      "------------------------------\n",
      "/home/giovana/Documentos/Projetos/Dashboard_com_Python-Data_Viking/ajustados_2022/infraçoes2022_11.csv\n",
      " /home/giovana/Documentos/Projetos/Dashboard_com_Python-Data_Viking/ajustados_2022/infraçoes2022_11.csv : 68.0 MB\n",
      "------------------------------\n",
      "/home/giovana/Documentos/Projetos/Dashboard_com_Python-Data_Viking/ajustados_2022/infraçoes2022_07.csv\n",
      " /home/giovana/Documentos/Projetos/Dashboard_com_Python-Data_Viking/ajustados_2022/infraçoes2022_07.csv : 76.21 MB\n",
      "------------------------------\n",
      "Temos ao todo 1020.46 MBs de dados.\n"
     ]
    }
   ],
   "source": [
    "# Lista os arquivos\n",
    "Arquivos = Diretorio_Path.iterdir()\n",
    "\n",
    "# Função para calcular tamanho do arquivo\n",
    "def Bytes_Mega(bytes):\n",
    "    Megabytes = bytes / (1024 * 1024)\n",
    "    return Megabytes\n",
    "\n",
    "# Total de MBs\n",
    "Total_MB = 0\n",
    "\n",
    "# Loop\n",
    "for Loop in Arquivos:\n",
    "    print( Loop )\n",
    "\n",
    "    # Buscando tamanho de arquivos\n",
    "    Tamanho = os.path.getsize( Loop )\n",
    "\n",
    "    # Convertendo em megas\n",
    "    Conversao = Bytes_Mega( Tamanho )\n",
    "\n",
    "    # Extraindo nome do arquivo\n",
    "    Nome_Arquivo = str( Loop ). split('\\\\')[-1]\n",
    "\n",
    "    print(f' {Nome_Arquivo} : { round(Conversao, 2) } MB')\n",
    "    print('-' * 30)\n",
    "\n",
    "    Total_MB = Total_MB + Tamanho\n",
    "\n",
    "print(f'Temos ao todo {round(Bytes_Mega(Total_MB), 2)} MBs de dados.')\n",
    "\n"
   ],
   "metadata": {
    "collapsed": false,
    "ExecuteTime": {
     "end_time": "2023-06-21T22:13:59.403375247Z",
     "start_time": "2023-06-21T22:13:59.391230324Z"
    }
   }
  },
  {
   "cell_type": "code",
   "execution_count": 19,
   "outputs": [
    {
     "data": {
      "text/plain": "    Número do Auto Data da Infração (DD/MM/AAAA) Indicador de Abordagem  \\\n0  60dd1313106d832                    2022-07-27                      C   \n1  da5937c8afe9632                    2022-07-27                      C   \n2  b005e4bd7f6aec5                    2022-07-27                      C   \n3  cbbd54ecdcd9629                    2022-07-27                      C   \n4  00c37fa66bcfd93                    2022-07-27                      C   \n\n  Assinatura do Auto Sentido Trafego UF Infração  BR Infração  Km Infração  \\\n0                  N               C          SP          116          156   \n1                  N               C          SP          116          156   \n2                  N               C          SP          116          156   \n3                  N               C          SP          116          156   \n4                  N               D          MA          230          406   \n\n             Município Indicador Veiculo Estrangeiro  ... Código da Infração  \\\n0  SAO JOSE DOS CAMPOS                             N  ...              68311   \n1  SAO JOSE DOS CAMPOS                             N  ...              68401   \n2  SAO JOSE DOS CAMPOS                             N  ...              69120   \n3  SAO JOSE DOS CAMPOS                             N  ...              69630   \n4               BALSAS                             N  ...              65991   \n\n                        Descrição Abreviada Infração  \\\n0  Transitar com o veículo com excesso de peso PB...   \n1  Transitar em desacordo c/ autorização expedida...   \n2  Conduzir veículo sem os documentos de porte ob...   \n3  Trans c/veíc desac c/especificação/falta de in...   \n4       Conduzir o veículo que não esteja registrado   \n\n  Enquadramento da Infração Início Vigência da Infração Fim Vigência Infração  \\\n0                     231 V                  2016-11-01                   NaN   \n1                    231 VI                  2016-11-01                   NaN   \n2                       232                  2016-11-01                   NaN   \n3                       237                  2016-11-01                   NaN   \n4                   230 * V                  2016-11-01                   NaN   \n\n   Medição Infração Hora Infração Medição Considerada Excesso Verificado  \\\n0              Peso             7               71925              14925   \n1           Nenhuma             7                   0                  0   \n2           Nenhuma             7                   0                  0   \n3           Nenhuma             7                   0                  0   \n4           Nenhuma            22                   0                  0   \n\n   Qtd Infrações  \n0              1  \n1              1  \n2              1  \n3              1  \n4              1  \n\n[5 rows x 25 columns]",
      "text/html": "<div>\n<style scoped>\n    .dataframe tbody tr th:only-of-type {\n        vertical-align: middle;\n    }\n\n    .dataframe tbody tr th {\n        vertical-align: top;\n    }\n\n    .dataframe thead th {\n        text-align: right;\n    }\n</style>\n<table border=\"1\" class=\"dataframe\">\n  <thead>\n    <tr style=\"text-align: right;\">\n      <th></th>\n      <th>Número do Auto</th>\n      <th>Data da Infração (DD/MM/AAAA)</th>\n      <th>Indicador de Abordagem</th>\n      <th>Assinatura do Auto</th>\n      <th>Sentido Trafego</th>\n      <th>UF Infração</th>\n      <th>BR Infração</th>\n      <th>Km Infração</th>\n      <th>Município</th>\n      <th>Indicador Veiculo Estrangeiro</th>\n      <th>...</th>\n      <th>Código da Infração</th>\n      <th>Descrição Abreviada Infração</th>\n      <th>Enquadramento da Infração</th>\n      <th>Início Vigência da Infração</th>\n      <th>Fim Vigência Infração</th>\n      <th>Medição Infração</th>\n      <th>Hora Infração</th>\n      <th>Medição Considerada</th>\n      <th>Excesso Verificado</th>\n      <th>Qtd Infrações</th>\n    </tr>\n  </thead>\n  <tbody>\n    <tr>\n      <th>0</th>\n      <td>60dd1313106d832</td>\n      <td>2022-07-27</td>\n      <td>C</td>\n      <td>N</td>\n      <td>C</td>\n      <td>SP</td>\n      <td>116</td>\n      <td>156</td>\n      <td>SAO JOSE DOS CAMPOS</td>\n      <td>N</td>\n      <td>...</td>\n      <td>68311</td>\n      <td>Transitar com o veículo com excesso de peso PB...</td>\n      <td>231 V</td>\n      <td>2016-11-01</td>\n      <td>NaN</td>\n      <td>Peso</td>\n      <td>7</td>\n      <td>71925</td>\n      <td>14925</td>\n      <td>1</td>\n    </tr>\n    <tr>\n      <th>1</th>\n      <td>da5937c8afe9632</td>\n      <td>2022-07-27</td>\n      <td>C</td>\n      <td>N</td>\n      <td>C</td>\n      <td>SP</td>\n      <td>116</td>\n      <td>156</td>\n      <td>SAO JOSE DOS CAMPOS</td>\n      <td>N</td>\n      <td>...</td>\n      <td>68401</td>\n      <td>Transitar em desacordo c/ autorização expedida...</td>\n      <td>231 VI</td>\n      <td>2016-11-01</td>\n      <td>NaN</td>\n      <td>Nenhuma</td>\n      <td>7</td>\n      <td>0</td>\n      <td>0</td>\n      <td>1</td>\n    </tr>\n    <tr>\n      <th>2</th>\n      <td>b005e4bd7f6aec5</td>\n      <td>2022-07-27</td>\n      <td>C</td>\n      <td>N</td>\n      <td>C</td>\n      <td>SP</td>\n      <td>116</td>\n      <td>156</td>\n      <td>SAO JOSE DOS CAMPOS</td>\n      <td>N</td>\n      <td>...</td>\n      <td>69120</td>\n      <td>Conduzir veículo sem os documentos de porte ob...</td>\n      <td>232</td>\n      <td>2016-11-01</td>\n      <td>NaN</td>\n      <td>Nenhuma</td>\n      <td>7</td>\n      <td>0</td>\n      <td>0</td>\n      <td>1</td>\n    </tr>\n    <tr>\n      <th>3</th>\n      <td>cbbd54ecdcd9629</td>\n      <td>2022-07-27</td>\n      <td>C</td>\n      <td>N</td>\n      <td>C</td>\n      <td>SP</td>\n      <td>116</td>\n      <td>156</td>\n      <td>SAO JOSE DOS CAMPOS</td>\n      <td>N</td>\n      <td>...</td>\n      <td>69630</td>\n      <td>Trans c/veíc desac c/especificação/falta de in...</td>\n      <td>237</td>\n      <td>2016-11-01</td>\n      <td>NaN</td>\n      <td>Nenhuma</td>\n      <td>7</td>\n      <td>0</td>\n      <td>0</td>\n      <td>1</td>\n    </tr>\n    <tr>\n      <th>4</th>\n      <td>00c37fa66bcfd93</td>\n      <td>2022-07-27</td>\n      <td>C</td>\n      <td>N</td>\n      <td>D</td>\n      <td>MA</td>\n      <td>230</td>\n      <td>406</td>\n      <td>BALSAS</td>\n      <td>N</td>\n      <td>...</td>\n      <td>65991</td>\n      <td>Conduzir o veículo que não esteja registrado</td>\n      <td>230 * V</td>\n      <td>2016-11-01</td>\n      <td>NaN</td>\n      <td>Nenhuma</td>\n      <td>22</td>\n      <td>0</td>\n      <td>0</td>\n      <td>1</td>\n    </tr>\n  </tbody>\n</table>\n<p>5 rows × 25 columns</p>\n</div>"
     },
     "execution_count": 19,
     "metadata": {},
     "output_type": "execute_result"
    }
   ],
   "source": [
    "# Amostra\n",
    "pd.read_csv( Loop, sep=';', encoding='latin-1' ).head()"
   ],
   "metadata": {
    "collapsed": false,
    "ExecuteTime": {
     "end_time": "2023-06-21T22:14:03.752118209Z",
     "start_time": "2023-06-21T22:14:02.823649330Z"
    }
   }
  },
  {
   "cell_type": "code",
   "execution_count": 20,
   "outputs": [
    {
     "name": "stdout",
     "output_type": "stream",
     "text": [
      "0 /home/giovana/Documentos/Projetos/Dashboard_com_Python-Data_Viking/ajustados_2022/infraçoes2022_09.csv\n",
      "1 /home/giovana/Documentos/Projetos/Dashboard_com_Python-Data_Viking/ajustados_2022/infraçoes2022_08.csv\n",
      "2 /home/giovana/Documentos/Projetos/Dashboard_com_Python-Data_Viking/ajustados_2022/infraçoes2022_12.csv\n",
      "3 /home/giovana/Documentos/Projetos/Dashboard_com_Python-Data_Viking/ajustados_2022/infraçoes2022_06.csv\n",
      "4 /home/giovana/Documentos/Projetos/Dashboard_com_Python-Data_Viking/ajustados_2022/infraçoes2022_03.csv\n",
      "5 /home/giovana/Documentos/Projetos/Dashboard_com_Python-Data_Viking/ajustados_2022/infraçoes2022_04.csv\n",
      "6 /home/giovana/Documentos/Projetos/Dashboard_com_Python-Data_Viking/ajustados_2022/infraçoes2022_05.csv\n",
      "7 /home/giovana/Documentos/Projetos/Dashboard_com_Python-Data_Viking/ajustados_2022/infraçoes2022_10.csv\n",
      "8 /home/giovana/Documentos/Projetos/Dashboard_com_Python-Data_Viking/ajustados_2022/infraçoes2022_02.csv\n",
      "9 /home/giovana/Documentos/Projetos/Dashboard_com_Python-Data_Viking/ajustados_2022/infraçoes2022_01.csv\n",
      "10 /home/giovana/Documentos/Projetos/Dashboard_com_Python-Data_Viking/ajustados_2022/infraçoes2022_11.csv\n",
      "11 /home/giovana/Documentos/Projetos/Dashboard_com_Python-Data_Viking/ajustados_2022/infraçoes2022_07.csv\n"
     ]
    },
    {
     "data": {
      "text/plain": "(4135523, 25)"
     },
     "execution_count": 20,
     "metadata": {},
     "output_type": "execute_result"
    }
   ],
   "source": [
    "# Lista os arquivos\n",
    "Arquivos = Diretorio_Path.iterdir()\n",
    "\n",
    "# Loop para consolidar os arquivos\n",
    "for Contador, Arq in enumerate(Arquivos):\n",
    "\n",
    "    print(Contador, Arq)\n",
    "\n",
    "    # Se for a 1 iteração, cria base consolidada\n",
    "    if Contador == 0:\n",
    "        # Ler  o arquivo do Loop\n",
    "        Base_Dados = pd.read_csv( Arq, sep=';', encoding='latin-1')\n",
    "        # Salvar na var\n",
    "        Base_Consolidada = Base_Dados\n",
    "\n",
    "    else:\n",
    "        # Ler o arquivodo loop\n",
    "        Base_Dados = pd.read_csv( Arq, sep=';', encoding='latin-1')\n",
    "        # Empilhar os dados\n",
    "        Base_Consolidada = pd.concat( [Base_Consolidada, Base_Dados] )\n",
    "\n",
    "# dimensão\n",
    "Base_Consolidada.shape"
   ],
   "metadata": {
    "collapsed": false,
    "ExecuteTime": {
     "end_time": "2023-06-21T22:14:19.860195421Z",
     "start_time": "2023-06-21T22:14:05.057464909Z"
    }
   }
  },
  {
   "cell_type": "code",
   "execution_count": 21,
   "outputs": [
    {
     "data": {
      "text/plain": "    Número do Auto Data da Infração (DD/MM/AAAA) Indicador de Abordagem  \\\n0  ab84b3a144c9dd0                    2022-09-28                      C   \n1  df0a2ccddfe32ce                    2022-09-28                      C   \n2  0c4ec741b994082                    2022-09-28                      C   \n3  07bf637658efa65                    2022-09-13                      C   \n4  b442c416d32e656                    2022-09-10                      C   \n\n  Assinatura do Auto Sentido Trafego UF Infração  BR Infração  Km Infração  \\\n0                  N               D          SP          101           48   \n1                  N               D          SP          101           48   \n2                  N               D          SP          101           48   \n3                  S               C          MG          381          355   \n4                  N               D          TO          153          144   \n\n        Município Indicador Veiculo Estrangeiro  ... Código da Infração  \\\n0         UBATUBA                             N  ...              66371   \n1         UBATUBA                             N  ...              66700   \n2         UBATUBA                             N  ...              67261   \n3  JOAO MONLEVADE                             N  ...              65991   \n4       ARAGUAINA                             N  ...              65991   \n\n                        Descrição Abreviada Infração  \\\n0     Conduzir o veículo sem equipamento obrigatório   \n1  Conduzir o veículo c/ equip do sistema de ilum...   \n2  Conduzir o veículo em mau estado de conservaçã...   \n3       Conduzir o veículo que não esteja registrado   \n4       Conduzir o veículo que não esteja registrado   \n\n  Enquadramento da Infração Início Vigência da Infração Fim Vigência Infração  \\\n0                    230 IX                  2016-11-01                   NaN   \n1                  230 XIII                  2016-11-01                   NaN   \n2                 230 XVIII                  2016-11-01                   NaN   \n3                   230 * V                  2016-11-01                   NaN   \n4                   230 * V                  2016-11-01                   NaN   \n\n   Medição Infração Hora Infração Medição Considerada Excesso Verificado  \\\n0           Nenhuma            13                   0                  0   \n1           Nenhuma            13                   0                  0   \n2           Nenhuma            13                   0                  0   \n3           Nenhuma            18                   0                  0   \n4           Nenhuma            23                   0                  0   \n\n   Qtd Infrações  \n0              1  \n1              1  \n2              1  \n3              1  \n4              1  \n\n[5 rows x 25 columns]",
      "text/html": "<div>\n<style scoped>\n    .dataframe tbody tr th:only-of-type {\n        vertical-align: middle;\n    }\n\n    .dataframe tbody tr th {\n        vertical-align: top;\n    }\n\n    .dataframe thead th {\n        text-align: right;\n    }\n</style>\n<table border=\"1\" class=\"dataframe\">\n  <thead>\n    <tr style=\"text-align: right;\">\n      <th></th>\n      <th>Número do Auto</th>\n      <th>Data da Infração (DD/MM/AAAA)</th>\n      <th>Indicador de Abordagem</th>\n      <th>Assinatura do Auto</th>\n      <th>Sentido Trafego</th>\n      <th>UF Infração</th>\n      <th>BR Infração</th>\n      <th>Km Infração</th>\n      <th>Município</th>\n      <th>Indicador Veiculo Estrangeiro</th>\n      <th>...</th>\n      <th>Código da Infração</th>\n      <th>Descrição Abreviada Infração</th>\n      <th>Enquadramento da Infração</th>\n      <th>Início Vigência da Infração</th>\n      <th>Fim Vigência Infração</th>\n      <th>Medição Infração</th>\n      <th>Hora Infração</th>\n      <th>Medição Considerada</th>\n      <th>Excesso Verificado</th>\n      <th>Qtd Infrações</th>\n    </tr>\n  </thead>\n  <tbody>\n    <tr>\n      <th>0</th>\n      <td>ab84b3a144c9dd0</td>\n      <td>2022-09-28</td>\n      <td>C</td>\n      <td>N</td>\n      <td>D</td>\n      <td>SP</td>\n      <td>101</td>\n      <td>48</td>\n      <td>UBATUBA</td>\n      <td>N</td>\n      <td>...</td>\n      <td>66371</td>\n      <td>Conduzir o veículo sem equipamento obrigatório</td>\n      <td>230 IX</td>\n      <td>2016-11-01</td>\n      <td>NaN</td>\n      <td>Nenhuma</td>\n      <td>13</td>\n      <td>0</td>\n      <td>0</td>\n      <td>1</td>\n    </tr>\n    <tr>\n      <th>1</th>\n      <td>df0a2ccddfe32ce</td>\n      <td>2022-09-28</td>\n      <td>C</td>\n      <td>N</td>\n      <td>D</td>\n      <td>SP</td>\n      <td>101</td>\n      <td>48</td>\n      <td>UBATUBA</td>\n      <td>N</td>\n      <td>...</td>\n      <td>66700</td>\n      <td>Conduzir o veículo c/ equip do sistema de ilum...</td>\n      <td>230 XIII</td>\n      <td>2016-11-01</td>\n      <td>NaN</td>\n      <td>Nenhuma</td>\n      <td>13</td>\n      <td>0</td>\n      <td>0</td>\n      <td>1</td>\n    </tr>\n    <tr>\n      <th>2</th>\n      <td>0c4ec741b994082</td>\n      <td>2022-09-28</td>\n      <td>C</td>\n      <td>N</td>\n      <td>D</td>\n      <td>SP</td>\n      <td>101</td>\n      <td>48</td>\n      <td>UBATUBA</td>\n      <td>N</td>\n      <td>...</td>\n      <td>67261</td>\n      <td>Conduzir o veículo em mau estado de conservaçã...</td>\n      <td>230 XVIII</td>\n      <td>2016-11-01</td>\n      <td>NaN</td>\n      <td>Nenhuma</td>\n      <td>13</td>\n      <td>0</td>\n      <td>0</td>\n      <td>1</td>\n    </tr>\n    <tr>\n      <th>3</th>\n      <td>07bf637658efa65</td>\n      <td>2022-09-13</td>\n      <td>C</td>\n      <td>S</td>\n      <td>C</td>\n      <td>MG</td>\n      <td>381</td>\n      <td>355</td>\n      <td>JOAO MONLEVADE</td>\n      <td>N</td>\n      <td>...</td>\n      <td>65991</td>\n      <td>Conduzir o veículo que não esteja registrado</td>\n      <td>230 * V</td>\n      <td>2016-11-01</td>\n      <td>NaN</td>\n      <td>Nenhuma</td>\n      <td>18</td>\n      <td>0</td>\n      <td>0</td>\n      <td>1</td>\n    </tr>\n    <tr>\n      <th>4</th>\n      <td>b442c416d32e656</td>\n      <td>2022-09-10</td>\n      <td>C</td>\n      <td>N</td>\n      <td>D</td>\n      <td>TO</td>\n      <td>153</td>\n      <td>144</td>\n      <td>ARAGUAINA</td>\n      <td>N</td>\n      <td>...</td>\n      <td>65991</td>\n      <td>Conduzir o veículo que não esteja registrado</td>\n      <td>230 * V</td>\n      <td>2016-11-01</td>\n      <td>NaN</td>\n      <td>Nenhuma</td>\n      <td>23</td>\n      <td>0</td>\n      <td>0</td>\n      <td>1</td>\n    </tr>\n  </tbody>\n</table>\n<p>5 rows × 25 columns</p>\n</div>"
     },
     "execution_count": 21,
     "metadata": {},
     "output_type": "execute_result"
    }
   ],
   "source": [
    "Base_Consolidada.head()"
   ],
   "metadata": {
    "collapsed": false,
    "ExecuteTime": {
     "end_time": "2023-06-21T22:14:22.259006235Z",
     "start_time": "2023-06-21T22:14:22.189987373Z"
    }
   }
  },
  {
   "cell_type": "code",
   "execution_count": 22,
   "outputs": [
    {
     "data": {
      "text/plain": "         Número do Auto Data da Infração (DD/MM/AAAA) Indicador de Abordagem  \\\n308241  1e9e4d45f3d6da3                    2022-07-01                      S   \n308242  5aec56f117117f4                    2022-07-01                      S   \n308243  2aaf07c7cbcceb1                    2022-07-01                      S   \n308244  0014aab47a5b7ef                    2022-07-01                      S   \n308245  14d51b863661469                    2022-07-01                      S   \n\n       Assinatura do Auto Sentido Trafego UF Infração  BR Infração  \\\n308241                  N               D          CE          222   \n308242                  N               C          CE          222   \n308243                  N               C          CE          222   \n308244                  N               D          CE          222   \n308245                  N               D          CE          116   \n\n        Km Infração                Município Indicador Veiculo Estrangeiro  \\\n308241           60  SAO GONCALO DO AMARANTE                             N   \n308242           60  SAO GONCALO DO AMARANTE                             N   \n308243           60  SAO GONCALO DO AMARANTE                             N   \n308244           60  SAO GONCALO DO AMARANTE                             N   \n308245           19                  EUSEBIO                             N   \n\n        ... Código da Infração  \\\n308241  ...              58350   \n308242  ...              58350   \n308243  ...              58350   \n308244  ...              58350   \n308245  ...              58350   \n\n                             Descrição Abreviada Infração  \\\n308241  Desobedecer às ordens emanadas da autorid comp...   \n308242  Desobedecer às ordens emanadas da autorid comp...   \n308243  Desobedecer às ordens emanadas da autorid comp...   \n308244  Desobedecer às ordens emanadas da autorid comp...   \n308245  Desobedecer às ordens emanadas da autorid comp...   \n\n       Enquadramento da Infração Início Vigência da Infração  \\\n308241                       195                  2016-11-01   \n308242                       195                  2016-11-01   \n308243                       195                  2016-11-01   \n308244                       195                  2016-11-01   \n308245                       195                  2016-11-01   \n\n       Fim Vigência Infração  Medição Infração Hora Infração  \\\n308241                   NaN           Nenhuma            19   \n308242                   NaN           Nenhuma            20   \n308243                   NaN           Nenhuma            20   \n308244                   NaN           Nenhuma            20   \n308245                   NaN           Nenhuma            20   \n\n       Medição Considerada Excesso Verificado  Qtd Infrações  \n308241                   0                  0              1  \n308242                   0                  0              1  \n308243                   0                  0              1  \n308244                   0                  0              1  \n308245                   0                  0              1  \n\n[5 rows x 25 columns]",
      "text/html": "<div>\n<style scoped>\n    .dataframe tbody tr th:only-of-type {\n        vertical-align: middle;\n    }\n\n    .dataframe tbody tr th {\n        vertical-align: top;\n    }\n\n    .dataframe thead th {\n        text-align: right;\n    }\n</style>\n<table border=\"1\" class=\"dataframe\">\n  <thead>\n    <tr style=\"text-align: right;\">\n      <th></th>\n      <th>Número do Auto</th>\n      <th>Data da Infração (DD/MM/AAAA)</th>\n      <th>Indicador de Abordagem</th>\n      <th>Assinatura do Auto</th>\n      <th>Sentido Trafego</th>\n      <th>UF Infração</th>\n      <th>BR Infração</th>\n      <th>Km Infração</th>\n      <th>Município</th>\n      <th>Indicador Veiculo Estrangeiro</th>\n      <th>...</th>\n      <th>Código da Infração</th>\n      <th>Descrição Abreviada Infração</th>\n      <th>Enquadramento da Infração</th>\n      <th>Início Vigência da Infração</th>\n      <th>Fim Vigência Infração</th>\n      <th>Medição Infração</th>\n      <th>Hora Infração</th>\n      <th>Medição Considerada</th>\n      <th>Excesso Verificado</th>\n      <th>Qtd Infrações</th>\n    </tr>\n  </thead>\n  <tbody>\n    <tr>\n      <th>308241</th>\n      <td>1e9e4d45f3d6da3</td>\n      <td>2022-07-01</td>\n      <td>S</td>\n      <td>N</td>\n      <td>D</td>\n      <td>CE</td>\n      <td>222</td>\n      <td>60</td>\n      <td>SAO GONCALO DO AMARANTE</td>\n      <td>N</td>\n      <td>...</td>\n      <td>58350</td>\n      <td>Desobedecer às ordens emanadas da autorid comp...</td>\n      <td>195</td>\n      <td>2016-11-01</td>\n      <td>NaN</td>\n      <td>Nenhuma</td>\n      <td>19</td>\n      <td>0</td>\n      <td>0</td>\n      <td>1</td>\n    </tr>\n    <tr>\n      <th>308242</th>\n      <td>5aec56f117117f4</td>\n      <td>2022-07-01</td>\n      <td>S</td>\n      <td>N</td>\n      <td>C</td>\n      <td>CE</td>\n      <td>222</td>\n      <td>60</td>\n      <td>SAO GONCALO DO AMARANTE</td>\n      <td>N</td>\n      <td>...</td>\n      <td>58350</td>\n      <td>Desobedecer às ordens emanadas da autorid comp...</td>\n      <td>195</td>\n      <td>2016-11-01</td>\n      <td>NaN</td>\n      <td>Nenhuma</td>\n      <td>20</td>\n      <td>0</td>\n      <td>0</td>\n      <td>1</td>\n    </tr>\n    <tr>\n      <th>308243</th>\n      <td>2aaf07c7cbcceb1</td>\n      <td>2022-07-01</td>\n      <td>S</td>\n      <td>N</td>\n      <td>C</td>\n      <td>CE</td>\n      <td>222</td>\n      <td>60</td>\n      <td>SAO GONCALO DO AMARANTE</td>\n      <td>N</td>\n      <td>...</td>\n      <td>58350</td>\n      <td>Desobedecer às ordens emanadas da autorid comp...</td>\n      <td>195</td>\n      <td>2016-11-01</td>\n      <td>NaN</td>\n      <td>Nenhuma</td>\n      <td>20</td>\n      <td>0</td>\n      <td>0</td>\n      <td>1</td>\n    </tr>\n    <tr>\n      <th>308244</th>\n      <td>0014aab47a5b7ef</td>\n      <td>2022-07-01</td>\n      <td>S</td>\n      <td>N</td>\n      <td>D</td>\n      <td>CE</td>\n      <td>222</td>\n      <td>60</td>\n      <td>SAO GONCALO DO AMARANTE</td>\n      <td>N</td>\n      <td>...</td>\n      <td>58350</td>\n      <td>Desobedecer às ordens emanadas da autorid comp...</td>\n      <td>195</td>\n      <td>2016-11-01</td>\n      <td>NaN</td>\n      <td>Nenhuma</td>\n      <td>20</td>\n      <td>0</td>\n      <td>0</td>\n      <td>1</td>\n    </tr>\n    <tr>\n      <th>308245</th>\n      <td>14d51b863661469</td>\n      <td>2022-07-01</td>\n      <td>S</td>\n      <td>N</td>\n      <td>D</td>\n      <td>CE</td>\n      <td>116</td>\n      <td>19</td>\n      <td>EUSEBIO</td>\n      <td>N</td>\n      <td>...</td>\n      <td>58350</td>\n      <td>Desobedecer às ordens emanadas da autorid comp...</td>\n      <td>195</td>\n      <td>2016-11-01</td>\n      <td>NaN</td>\n      <td>Nenhuma</td>\n      <td>20</td>\n      <td>0</td>\n      <td>0</td>\n      <td>1</td>\n    </tr>\n  </tbody>\n</table>\n<p>5 rows × 25 columns</p>\n</div>"
     },
     "execution_count": 22,
     "metadata": {},
     "output_type": "execute_result"
    }
   ],
   "source": [
    "Base_Consolidada.tail()"
   ],
   "metadata": {
    "collapsed": false,
    "ExecuteTime": {
     "end_time": "2023-06-21T22:14:24.102827004Z",
     "start_time": "2023-06-21T22:14:24.065512178Z"
    }
   }
  },
  {
   "cell_type": "code",
   "execution_count": 23,
   "outputs": [],
   "source": [
    "# Exportação, CSV\n",
    "Base_Consolidada.to_csv('Base_Consolidada.csv', index=False)"
   ],
   "metadata": {
    "collapsed": false,
    "ExecuteTime": {
     "end_time": "2023-06-21T22:14:45.083117325Z",
     "start_time": "2023-06-21T22:14:25.496092142Z"
    }
   }
  },
  {
   "cell_type": "code",
   "execution_count": 27,
   "outputs": [],
   "source": [
    "# Criar o banco de dados\n",
    "Conexao = sqlite3.connect('Banco_Dados.db')\n",
    "\n",
    "# Nome da tabela\n",
    "Nome_Tabela = 'Base_Consolidada'"
   ],
   "metadata": {
    "collapsed": false,
    "ExecuteTime": {
     "end_time": "2023-06-21T22:15:39.273395689Z",
     "start_time": "2023-06-21T22:15:39.258761680Z"
    }
   }
  },
  {
   "cell_type": "code",
   "execution_count": 28,
   "outputs": [
    {
     "data": {
      "text/plain": "4135523"
     },
     "execution_count": 28,
     "metadata": {},
     "output_type": "execute_result"
    }
   ],
   "source": [
    "Base_Consolidada.to_sql( Nome_Tabela, Conexao, if_exists='append', index=False)"
   ],
   "metadata": {
    "collapsed": false,
    "ExecuteTime": {
     "end_time": "2023-06-21T22:16:08.298048617Z",
     "start_time": "2023-06-21T22:15:41.651095210Z"
    }
   }
  },
  {
   "cell_type": "code",
   "execution_count": 29,
   "outputs": [],
   "source": [
    "for col in Base_Consolidada.columns:\n",
    "    Base_Consolidada[col] = Base_Consolidada[col].astype(str)"
   ],
   "metadata": {
    "collapsed": false,
    "ExecuteTime": {
     "end_time": "2023-06-21T22:16:28.946959984Z",
     "start_time": "2023-06-21T22:16:19.955544734Z"
    }
   }
  },
  {
   "cell_type": "code",
   "execution_count": 30,
   "outputs": [],
   "source": [
    "# Parquet\n",
    "#!pip install pyarrow\n",
    "Base_Consolidada.to_parquet('Base_Consolidada.parquet', index=False, compression='gzip')"
   ],
   "metadata": {
    "collapsed": false,
    "ExecuteTime": {
     "end_time": "2023-06-21T22:16:48.621590939Z",
     "start_time": "2023-06-21T22:16:31.112652454Z"
    }
   }
  },
  {
   "cell_type": "code",
   "execution_count": null,
   "outputs": [],
   "source": [],
   "metadata": {
    "collapsed": false
   }
  }
 ],
 "metadata": {
  "kernelspec": {
   "display_name": "Python 3",
   "language": "python",
   "name": "python3"
  },
  "language_info": {
   "codemirror_mode": {
    "name": "ipython",
    "version": 2
   },
   "file_extension": ".py",
   "mimetype": "text/x-python",
   "name": "python",
   "nbconvert_exporter": "python",
   "pygments_lexer": "ipython2",
   "version": "2.7.6"
  }
 },
 "nbformat": 4,
 "nbformat_minor": 0
}
